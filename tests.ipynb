{
 "cells": [
  {
   "cell_type": "markdown",
   "id": "903d51e3",
   "metadata": {},
   "source": [
    "# Tests and computations on parking functions"
   ]
  },
  {
   "cell_type": "code",
   "execution_count": 3,
   "id": "1d89a607",
   "metadata": {},
   "outputs": [],
   "source": [
    "load(\"parking_functions.py\")"
   ]
  },
  {
   "cell_type": "code",
   "execution_count": 4,
   "id": "6930bb55",
   "metadata": {},
   "outputs": [
    {
     "name": "stdout",
     "output_type": "stream",
     "text": [
      "INFORMATION on DINV SET\n",
      "\t The pairs of tdinv are: [(1, 3), (1, 4), (1, 6), (2, 3), (2, 5), (3, 4), (3, 6), (3, 7), (4, 6), (4, 7), (5, 6), (6, 7)]\n",
      "\t The pairs of dinvcorr are: [(1, 3), (1, 5), (1, 5), (2, 1), (2, 5), (2, 5), (4, 1), (4, 3), (4, 3), (4, 6), (4, 6), (6, 1), (6, 3), (6, 3)]\n"
     ]
    }
   ],
   "source": [
    "n = 7\n",
    "k = 3\n",
    "area1 = [21,21,18,17,10,6,5]\n",
    "label1 = [2,4,6,7,1,5,3]\n",
    "\n",
    "pf1 = ParkFunc(n,k*n,w_area=area1,w_label=label1)\n",
    "[pf2,notdinv,nodinvc] = pf1.to_area_pmaj(infos=True)"
   ]
  },
  {
   "cell_type": "code",
   "execution_count": 5,
   "id": "dd085baa",
   "metadata": {},
   "outputs": [
    {
     "name": "stdout",
     "output_type": "stream",
     "text": [
      "\t                                                   +--+--+--+--+--+\n",
      "\t                                                  3|##|##|  |  |  |\n",
      "\t                                                +--+--+--+--+--+--+\n",
      "\t                                               5|  |  |  |  |  |  |\n",
      "\t                                    +--+--+--+--+--+--+--+--+--+--+\n",
      "\t                                   1|##|  |  |  |  |  |  |  |  |  |\n",
      "\t               +--+--+--+--+--+--+--+--+--+--+--+--+--+--+--+--+--+\n",
      "\t              7|##|##|##|##|##|  |  |  |  |  |  |  |  |  |  |  |  |\n",
      "\t            +--+--+--+--+--+--+--+--+--+--+--+--+--+--+--+--+--+--+\n",
      "\t           6|##|##|##|  |  |  |  |  |  |  |  |  |  |  |  |  |  |  |\n",
      "\t   +--+--+--+--+--+--+--+--+--+--+--+--+--+--+--+--+--+--+--+--+--+\n",
      "\t  4|##|##|##|  |  |  |  |  |  |  |  |  |  |  |  |  |  |  |  |  |  |\n",
      "\t   +--+--+--+--+--+--+--+--+--+--+--+--+--+--+--+--+--+--+--+--+--+\n",
      "\t  2|  |  |  |  |  |  |  |  |  |  |  |  |  |  |  |  |  |  |  |  |  |\n",
      "\t   +--+--+--+--+--+--+--+--+--+--+--+--+--+--+--+--+--+--+--+--+--+\n",
      " Label word:\t[2, 4, 6, 7, 1, 5, 3]\n",
      " Area word:\t[0, 3, 3, 5, 1, 0, 2]\n",
      " Area: 14\t Dinv: 26\t Pmaj: 22\n",
      "\t                                                +--+--+--+--+--+--+\n",
      "\t                                               7|##|##|##|  |  |  |\n",
      "\t                        +--+--+--+--+--+--+--+--+--+--+--+--+--+--+\n",
      "\t                       4|##|##|##|##|##|##|##|##|  |  |  |  |  |  |\n",
      "\t                     +--+--+--+--+--+--+--+--+--+--+--+--+--+--+--+\n",
      "\t                    6|##|##|##|##|##|##|  |  |  |  |  |  |  |  |  |\n",
      "\t                     +--+--+--+--+--+--+--+--+--+--+--+--+--+--+--+\n",
      "\t                    3|##|##|##|  |  |  |  |  |  |  |  |  |  |  |  |\n",
      "\t            +--+--+--+--+--+--+--+--+--+--+--+--+--+--+--+--+--+--+\n",
      "\t           1|##|##|##|  |  |  |  |  |  |  |  |  |  |  |  |  |  |  |\n",
      "\t   +--+--+--+--+--+--+--+--+--+--+--+--+--+--+--+--+--+--+--+--+--+\n",
      "\t  5|##|##|##|  |  |  |  |  |  |  |  |  |  |  |  |  |  |  |  |  |  |\n",
      "\t   +--+--+--+--+--+--+--+--+--+--+--+--+--+--+--+--+--+--+--+--+--+\n",
      "\t  2|  |  |  |  |  |  |  |  |  |  |  |  |  |  |  |  |  |  |  |  |  |\n",
      "\t   +--+--+--+--+--+--+--+--+--+--+--+--+--+--+--+--+--+--+--+--+--+\n",
      " Label word:\t[2, 5, 1, 3, 6, 4, 7]\n",
      " Area word:\t[0, 3, 3, 3, 6, 8, 3]\n",
      " Area: 26\t Dinv: 16\t Pmaj: 14\n"
     ]
    }
   ],
   "source": [
    "pf1.draw()\n",
    "pf2.draw()"
   ]
  },
  {
   "cell_type": "code",
   "execution_count": 6,
   "id": "e93b15e1",
   "metadata": {},
   "outputs": [
    {
     "name": "stdout",
     "output_type": "stream",
     "text": [
      "[0, 0, 2, 1, 2, 1, 3]\n",
      "[0, 0, 1, 5, 5, 5, 12]\n"
     ]
    }
   ],
   "source": [
    "print(notdinv)\n",
    "print(nodinvc)"
   ]
  },
  {
   "cell_type": "code",
   "execution_count": 7,
   "id": "4b05b95a",
   "metadata": {},
   "outputs": [
    {
     "name": "stdout",
     "output_type": "stream",
     "text": [
      "[(1, 3), (2, 3), (2, 5), (4, 1), (4, 3), (4, 6), (4, 7), (6, 1), (6, 3), (6, 5), (6, 7), (7, 3)]\n"
     ]
    }
   ],
   "source": [
    "X = [(1, 3), (4, 1), (6, 1), (2, 3), (2, 5), (4, 3),(6, 3), (7, 3), (4, 6), (4, 7), (6, 5), (6, 7)]\n",
    "X.sort()\n",
    "print(X)"
   ]
  },
  {
   "cell_type": "code",
   "execution_count": 11,
   "id": "7d1c1a07",
   "metadata": {},
   "outputs": [
    {
     "name": "stdout",
     "output_type": "stream",
     "text": [
      "[(2, 5), (2, 5), (2, 5), (1, 5), (1, 5), (2, 1), (1, 3), (1, 3), (2, 3), (1, 4), (3, 4), (4, 1), (4, 3), (4, 3), (1, 6), (3, 6), (4, 6), (4, 6), (4, 6), (5, 6), (6, 1), (6, 3), (6, 3), (3, 7), (4, 7), (6, 7)]\n"
     ]
    }
   ],
   "source": [
    "X = [(1, 3), (1, 4), (1, 6), (2, 3), (2, 5), (3, 4), (3, 6), (3, 7), (4, 6), (4, 7), (5, 6), (6, 7), (1, 3), (1, 5), (1, 5), (2, 1), (2, 5), (2, 5), (4, 1), (4, 3), (4, 3), (4, 6), (4, 6), (6, 1), (6, 3), (6, 3)]\n",
    "w = [2,5,1,3,4,6,7]\n",
    "X.sort()\n",
    "X.sort(key = lambda x: max(w.index(x[0]), w.index(x[1])))\n",
    "print(X)"
   ]
  },
  {
   "cell_type": "code",
   "execution_count": null,
   "id": "231a2738",
   "metadata": {},
   "outputs": [],
   "source": []
  }
 ],
 "metadata": {
  "kernelspec": {
   "display_name": "SageMath 10.4.beta7",
   "language": "sage",
   "name": "sagemath-dev"
  },
  "language_info": {
   "codemirror_mode": {
    "name": "ipython",
    "version": 3
   },
   "file_extension": ".py",
   "mimetype": "text/x-python",
   "name": "sage",
   "nbconvert_exporter": "python",
   "pygments_lexer": "ipython3",
   "version": "3.12.3"
  }
 },
 "nbformat": 4,
 "nbformat_minor": 5
}
