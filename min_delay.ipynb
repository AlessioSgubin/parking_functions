{
 "cells": [
  {
   "cell_type": "markdown",
   "id": "d9d22c29",
   "metadata": {},
   "source": [
    "# Experiments with mindelay"
   ]
  },
  {
   "cell_type": "code",
   "execution_count": null,
   "id": "b1b72c23",
   "metadata": {
    "vscode": {
     "languageId": "sage"
    }
   },
   "outputs": [],
   "source": [
    "# Loading functions for parking functions\n",
    "load(\"parking_functions.py\")\n",
    "\n",
    "# Loading Giovanni's code for Dyck paths and mindelay\n",
    "\n",
    "def menk(aa,k): #remove k from each element of a list\n",
    "    return [a-k for a in aa]\n",
    "\n",
    "def piuk(aa,k): #add k to each element of a list\n",
    "    return [a+k for a in aa]\n",
    "\n",
    "from itertools import product\n",
    "from numpy import argmin\n",
    "\n",
    "def easy_bounce(path): #calculate bounce stat for Dyck Paths ([1,1,-1,1,-1,-1]) from 0,0 to n,n\n",
    "    pp=deepcopy(path)\n",
    "    n=len(pp)\n",
    "    gg=[sum(pp[:i]) for i in range(n)]\n",
    "    c=-min(gg)\n",
    "    j=argmin(gg)\n",
    "    start=0\n",
    "    pos=start\n",
    "    bounce=[]\n",
    "    i=0\n",
    "    bb=0\n",
    "    bs=[]\n",
    "    i=0\n",
    "    while i<n:\n",
    "        if sum(bounce[:i])==0:\n",
    "            bounce.append(1)\n",
    "        else:\n",
    "            if bounce[-1]==-1:\n",
    "                bounce.append(-1)\n",
    "            else:\n",
    "                if sum(bounce[:i])==sum(pp[:i]):\n",
    "                    if pp[i]==-1:\n",
    "                        bb+=1\n",
    "                    bounce.append(pp[i])\n",
    "                else:\n",
    "                    bounce.append(1)\n",
    "        bs.append(bb)\n",
    "        i+=1\n",
    "    return sum([bs[i] for i in range(n) if pp[i]==1])\n",
    "\n",
    "def path_ord(p1,p2): #It is true if path p1 is above path p2 (paths with 1 and -1)\n",
    "    n=len(p1)\n",
    "    g1=[sum(p1[:i]) for i in range(n)]\n",
    "    g2=[sum(p2[:i]) for i in range(n)]\n",
    "    x=True\n",
    "    i=0\n",
    "    while x and i<n:\n",
    "        if g1[i]<g2[i]:\n",
    "            x=False\n",
    "        i+=1\n",
    "    return x\n",
    "\n",
    "def my_Paths(n): #list of all paths from 0,0 to n,n (with 1 and -1)\n",
    "    return [list(seq) for seq in product([-1, 1], repeat=2*n) if sum(seq) == 0]\n",
    "\n",
    "def my_DyckPaths(n): #list of all Dyck paths from 0,0 to n,n (with 1 and -1)\n",
    "    dd=[(-1)**i for i in range(2*n)]\n",
    "    return [pp for pp in my_Paths(n) if path_ord(pp,dd)]\n",
    "\n",
    "def from_my_to_area(pp): #convert a path with 1 and -1 in its complete! area word\n",
    "    aa=list(pp)\n",
    "    n=len(aa)/2\n",
    "    return [[sum(aa[:i]) for i in range(2*n) if aa[i]==1][j]+n-j for j in range(n)]\n",
    "\n",
    "def from_area_to_my(pp): #convert a completh area word in a path with 1 and -1\n",
    "    n=len(pp)\n",
    "    bb=list(pp)+[0]\n",
    "    x=[]\n",
    "    for i in range(n):\n",
    "        x=x+[1]+[-1 for a in range(bb[i]-bb[i+1])]\n",
    "    return x\n",
    "\n",
    "def sc_bo(n,k,dizi=[],perc=[],start=0): \n",
    "    #return a list of dictionaries, such that the i-th ([i-1]...) is the list of all paths in n,k*n rectangular\n",
    "    #above the diagonal, with the bounce decomposition statistic\n",
    "    if start==0:\n",
    "        dizi=[{} for a in range(k+1)]    \n",
    "        dizi[1].update({tuple(menk(from_my_to_area(a),1)):easy_bounce(a) for a in my_DyckPaths(n)})\n",
    "        perc=[{}]+[{tuple(menk(a,i)):1 for a in kDyckPaths(n,i)} for i in range(1,k+1)]\n",
    "    if len(dizi[k])>0:\n",
    "        return [dizi[j] for j in range(1,k+1)]\n",
    "    km1=sc_bo(n,k-1,dizi,perc,1)[-1]\n",
    "    for aa in km1:\n",
    "        for bb in dizi[1]:\n",
    "            cc=[list(aa)[i]+list(bb)[i] for i in range(n)]\n",
    "            if tuple(cc) in perc[k]:\n",
    "                new=easy_bounce(from_area_to_my(list(bb)))+dizi[k-1][aa]\n",
    "                if tuple(cc) in dizi[k]:\n",
    "                    if dizi[k][tuple(cc)]>new:\n",
    "                        dizi[k][tuple(cc)]=new\n",
    "                else:\n",
    "                    dizi[k].update({tuple(cc):new})\n",
    "    return [dizi[j] for j in range(1,k+1)]\n",
    "        \n",
    "\n",
    "\n",
    "# Converting dyck paths to corresponding parking functions\n",
    "def dyck_to_pf(n,k,path):\n",
    "    return ParkFunc(n,k,w_area=path,w_label=[i+1 for i in range(n)])"
   ]
  },
  {
   "cell_type": "markdown",
   "id": "381cff49",
   "metadata": {},
   "source": [
    "Now we want to try and find out why pmaj and mindelay are the same..."
   ]
  },
  {
   "cell_type": "code",
   "execution_count": 14,
   "id": "0880e43b",
   "metadata": {
    "vscode": {
     "languageId": "sage"
    }
   },
   "outputs": [
    {
     "name": "stdout",
     "output_type": "stream",
     "text": [
      "{(3, 2, 1, 0): [6, [[4, 3, 2, 1]]], (3, 2, 1, 1): [5, [[4, 3, 2, 2]]], (3, 2, 2, 0): [4, [[4, 3, 3, 1]]], (3, 2, 2, 1): [4, [[4, 3, 3, 2]]], (3, 2, 2, 2): [3, [[4, 3, 3, 3]]], (3, 3, 1, 0): [3, [[4, 4, 2, 1]]], (3, 3, 1, 1): [2, [[4, 4, 2, 2]]], (3, 3, 2, 0): [3, [[4, 4, 3, 1]]], (3, 3, 2, 1): [2, [[4, 4, 3, 2]]], (3, 3, 2, 2): [2, [[4, 4, 3, 3]]], (3, 3, 3, 0): [1, [[4, 4, 4, 1]]], (3, 3, 3, 1): [1, [[4, 4, 4, 2]]], (3, 3, 3, 2): [1, [[4, 4, 4, 3]]], (3, 3, 3, 3): [0, [[4, 4, 4, 4]]]}\n"
     ]
    },
    {
     "ename": "TypeError",
     "evalue": "unsupported operand parent(s) for +: 'Integer Ring' and '<class 'list'>'",
     "output_type": "error",
     "traceback": [
      "\u001b[0;31m---------------------------------------------------------------------------\u001b[0m",
      "\u001b[0;31mTypeError\u001b[0m                                 Traceback (most recent call last)",
      "Cell \u001b[0;32mIn[14], line 1\u001b[0m\n\u001b[0;32m----> 1\u001b[0m \u001b[43msc_bo_info\u001b[49m\u001b[43m(\u001b[49m\u001b[43mInteger\u001b[49m\u001b[43m(\u001b[49m\u001b[38;5;241;43m4\u001b[39;49m\u001b[43m)\u001b[49m\u001b[43m,\u001b[49m\u001b[43mInteger\u001b[49m\u001b[43m(\u001b[49m\u001b[38;5;241;43m3\u001b[39;49m\u001b[43m)\u001b[49m\u001b[43m)\u001b[49m\n",
      "Cell \u001b[0;32mIn[13], line 108\u001b[0m, in \u001b[0;36msc_bo_info\u001b[0;34m(n, k, dizi, perc, start)\u001b[0m\n\u001b[1;32m    106\u001b[0m \u001b[38;5;28;01mif\u001b[39;00m \u001b[38;5;28mlen\u001b[39m(dizi[k])\u001b[38;5;241m>\u001b[39mInteger(\u001b[38;5;241m0\u001b[39m):\n\u001b[1;32m    107\u001b[0m     \u001b[38;5;28;01mreturn\u001b[39;00m [dizi[j] \u001b[38;5;28;01mfor\u001b[39;00m j \u001b[38;5;129;01min\u001b[39;00m \u001b[38;5;28mrange\u001b[39m(Integer(\u001b[38;5;241m1\u001b[39m),k\u001b[38;5;241m+\u001b[39mInteger(\u001b[38;5;241m1\u001b[39m))]\n\u001b[0;32m--> 108\u001b[0m km1\u001b[38;5;241m=\u001b[39m\u001b[43msc_bo_info\u001b[49m\u001b[43m(\u001b[49m\u001b[43mn\u001b[49m\u001b[43m,\u001b[49m\u001b[43mk\u001b[49m\u001b[38;5;241;43m-\u001b[39;49m\u001b[43mInteger\u001b[49m\u001b[43m(\u001b[49m\u001b[38;5;241;43m1\u001b[39;49m\u001b[43m)\u001b[49m\u001b[43m,\u001b[49m\u001b[43mdizi\u001b[49m\u001b[43m,\u001b[49m\u001b[43mperc\u001b[49m\u001b[43m,\u001b[49m\u001b[43mInteger\u001b[49m\u001b[43m(\u001b[49m\u001b[38;5;241;43m1\u001b[39;49m\u001b[43m)\u001b[49m\u001b[43m)\u001b[49m[\u001b[38;5;241m-\u001b[39mInteger(\u001b[38;5;241m1\u001b[39m)]\n\u001b[1;32m    109\u001b[0m \u001b[38;5;28mprint\u001b[39m(km1)\n\u001b[1;32m    110\u001b[0m \u001b[38;5;28;01mfor\u001b[39;00m aa \u001b[38;5;129;01min\u001b[39;00m km1:\n",
      "Cell \u001b[0;32mIn[13], line 114\u001b[0m, in \u001b[0;36msc_bo_info\u001b[0;34m(n, k, dizi, perc, start)\u001b[0m\n\u001b[1;32m    112\u001b[0m cc\u001b[38;5;241m=\u001b[39m[\u001b[38;5;28mlist\u001b[39m(aa)[i]\u001b[38;5;241m+\u001b[39m\u001b[38;5;28mlist\u001b[39m(bb)[i] \u001b[38;5;28;01mfor\u001b[39;00m i \u001b[38;5;129;01min\u001b[39;00m \u001b[38;5;28mrange\u001b[39m(n)]\n\u001b[1;32m    113\u001b[0m \u001b[38;5;28;01mif\u001b[39;00m \u001b[38;5;28mtuple\u001b[39m(cc) \u001b[38;5;129;01min\u001b[39;00m perc[k]:\n\u001b[0;32m--> 114\u001b[0m     new\u001b[38;5;241m=\u001b[39m\u001b[43measy_bounce\u001b[49m\u001b[43m(\u001b[49m\u001b[43mfrom_area_to_my\u001b[49m\u001b[43m(\u001b[49m\u001b[38;5;28;43mlist\u001b[39;49m\u001b[43m(\u001b[49m\u001b[43mbb\u001b[49m\u001b[43m)\u001b[49m\u001b[43m)\u001b[49m\u001b[43m)\u001b[49m\u001b[38;5;241;43m+\u001b[39;49m\u001b[43mdizi\u001b[49m\u001b[43m[\u001b[49m\u001b[43mk\u001b[49m\u001b[38;5;241;43m-\u001b[39;49m\u001b[43mInteger\u001b[49m\u001b[43m(\u001b[49m\u001b[38;5;241;43m1\u001b[39;49m\u001b[43m)\u001b[49m\u001b[43m]\u001b[49m\u001b[43m[\u001b[49m\u001b[43maa\u001b[49m\u001b[43m]\u001b[49m\n\u001b[1;32m    115\u001b[0m     \u001b[38;5;28;01mif\u001b[39;00m \u001b[38;5;28mtuple\u001b[39m(cc) \u001b[38;5;129;01min\u001b[39;00m dizi[k]:\n\u001b[1;32m    116\u001b[0m         \u001b[38;5;28;01mif\u001b[39;00m dizi[k][\u001b[38;5;28mtuple\u001b[39m(cc)][Integer(\u001b[38;5;241m0\u001b[39m)] \u001b[38;5;241m>\u001b[39m new:            \u001b[38;5;66;03m# Never had this good of a minbounce\u001b[39;00m\n",
      "File \u001b[0;32m~/sage/sage/src/sage/rings/integer.pyx:1765\u001b[0m, in \u001b[0;36msage.rings.integer.Integer.__add__\u001b[0;34m()\u001b[0m\n\u001b[1;32m   1763\u001b[0m         return y\n\u001b[1;32m   1764\u001b[0m \n\u001b[0;32m-> 1765\u001b[0m     return coercion_model.bin_op(left, right, operator.add)\n\u001b[1;32m   1766\u001b[0m \n\u001b[1;32m   1767\u001b[0m cpdef _add_(self, right):\n",
      "File \u001b[0;32m~/sage/sage/src/sage/structure/coerce.pyx:1279\u001b[0m, in \u001b[0;36msage.structure.coerce.CoercionModel.bin_op\u001b[0;34m()\u001b[0m\n\u001b[1;32m   1277\u001b[0m     # We should really include the underlying error.\n\u001b[1;32m   1278\u001b[0m     # This causes so much headache.\n\u001b[0;32m-> 1279\u001b[0m     raise bin_op_exception(op, x, y)\n\u001b[1;32m   1280\u001b[0m \n\u001b[1;32m   1281\u001b[0m cpdef canonical_coercion(self, x, y):\n",
      "\u001b[0;31mTypeError\u001b[0m: unsupported operand parent(s) for +: 'Integer Ring' and '<class 'list'>'"
     ]
    }
   ],
   "source": [
    "sc_bo_info(4,3)"
   ]
  },
  {
   "cell_type": "code",
   "execution_count": 3,
   "id": "9b18b345",
   "metadata": {
    "vscode": {
     "languageId": "sage"
    }
   },
   "outputs": [
    {
     "name": "stdout",
     "output_type": "stream",
     "text": [
      "[{(2, 1, 0): 3, (2, 1, 1): 2, (2, 2, 0): 1, (2, 2, 1): 1, (2, 2, 2): 0}, {(4, 2, 0): 6, (4, 2, 1): 5, (4, 3, 0): 4, (4, 3, 1): 3, (4, 3, 2): 3, (4, 2, 2): 4, (4, 3, 3): 2, (4, 4, 0): 2, (4, 4, 1): 2, (4, 4, 2): 1, (4, 4, 3): 1, (4, 4, 4): 0}, {(6, 3, 0): 9, (6, 3, 1): 8, (6, 4, 0): 7, (6, 4, 1): 6, (6, 4, 2): 5, (6, 3, 2): 7, (6, 4, 3): 5, (6, 5, 0): 5, (6, 5, 1): 4, (6, 5, 2): 4, (6, 5, 3): 3, (6, 5, 4): 3, (6, 3, 3): 6, (6, 4, 4): 4, (6, 5, 5): 2, (6, 6, 0): 3, (6, 6, 1): 3, (6, 6, 2): 2, (6, 6, 3): 2, (6, 6, 4): 1, (6, 6, 5): 1, (6, 6, 6): 0}]\n",
      "ciao\n"
     ]
    }
   ],
   "source": [
    "n=3\n",
    "k=3\n",
    "#3,12  4,8   5,8  6,5\n",
    "diz=sc_bo(n,k)\n",
    "print(diz)\n",
    "for bb in diz[-1]:#check if the bounce decomposition statistic is the same of the new pmaj\n",
    "    if diz[-1][bb]!=ParkFunc(n,n*k,w_area=piuk(bb,k),w_label=list(range(1,n+1))).pmaj():\n",
    "        print(bb)\n",
    "print('ciao')"
   ]
  },
  {
   "cell_type": "code",
   "execution_count": null,
   "id": "c42fdf62",
   "metadata": {
    "vscode": {
     "languageId": "sage"
    }
   },
   "outputs": [],
   "source": []
  },
  {
   "cell_type": "code",
   "execution_count": null,
   "id": "849bead2",
   "metadata": {
    "vscode": {
     "languageId": "sage"
    }
   },
   "outputs": [],
   "source": []
  }
 ],
 "metadata": {
  "kernelspec": {
   "display_name": "SageMath 10.4.beta7",
   "language": "sage",
   "name": "sagemath-dev"
  },
  "language_info": {
   "codemirror_mode": {
    "name": "ipython",
    "version": 3
   },
   "file_extension": ".py",
   "mimetype": "text/x-python",
   "name": "python",
   "nbconvert_exporter": "python",
   "pygments_lexer": "ipython3",
   "version": "3.12.3"
  }
 },
 "nbformat": 4,
 "nbformat_minor": 5
}
