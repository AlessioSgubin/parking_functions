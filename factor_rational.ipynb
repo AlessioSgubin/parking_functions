{
 "cells": [
  {
   "cell_type": "markdown",
   "id": "5f913900",
   "metadata": {},
   "source": [
    "# Experiment for the factorization of $\\langle \\nabla^k e_n, e_{(1^n)} \\rangle$"
   ]
  },
  {
   "cell_type": "code",
   "execution_count": 6,
   "id": "7d831ce9",
   "metadata": {
    "vscode": {
     "languageId": "sage"
    }
   },
   "outputs": [],
   "source": [
    "# Parameters for the experiments\n",
    "nn = 4\n",
    "kk = 2\n",
    "\n",
    "mu = [1]*nn"
   ]
  },
  {
   "cell_type": "markdown",
   "id": "0ea3956e",
   "metadata": {},
   "source": [
    "## Computation of the scalar product"
   ]
  },
  {
   "cell_type": "code",
   "execution_count": 7,
   "id": "1badf9df",
   "metadata": {
    "vscode": {
     "languageId": "sage"
    }
   },
   "outputs": [],
   "source": [
    "# Setup of Ring of Symmetric functions\n",
    "RR = FractionField(QQ['q','t'])\n",
    "q,t = RR.gens()\n",
    "Sym = SymmetricFunctions(RR)\n",
    "e = Sym.e()\n",
    "h = Sym.h()\n",
    "\n",
    "# Compute the scalar product\n",
    "left = e([nn])\n",
    "left = left.nabla(power=kk)\n",
    "right = e(mu)\n",
    "poly_Hall = left.scalar(right)"
   ]
  },
  {
   "cell_type": "markdown",
   "id": "23bf810b",
   "metadata": {},
   "source": [
    "## Computation of the factorization\n",
    "\n",
    "First we need several functions"
   ]
  },
  {
   "cell_type": "code",
   "execution_count": 8,
   "id": "bffe6165",
   "metadata": {
    "vscode": {
     "languageId": "sage"
    }
   },
   "outputs": [],
   "source": [
    "### First generate the set of all possible pmaj contributes\n",
    "def gen_pmaj_contributes(nn,kk):\n",
    "    # Generate all allowed images for pmaj contributes (multisets!)\n",
    "    list_functions = [[0]]          # The lowest one must always be a 0\n",
    "    for j in range(nn - 1):         # Add the new element to the set\n",
    "        new_list = []\n",
    "        for partial in list_functions:\n",
    "            new_list = new_list + [ partial + [partial[j] + i] for i in range(kk+1)]\n",
    "        list_functions = new_list\n",
    "    #print(list_functions)\n",
    "\n",
    "    # Compute all possible set partitions\n",
    "    set_partitions = {}\n",
    "    for lamb in Partitions(nn):                              # type: ignore\n",
    "        temp = []\n",
    "        for possible in OrderedSetPartitions(nn,lamb):       # type: ignore\n",
    "            poss = [list(part) for part in possible]\n",
    "            temp.append(poss)\n",
    "        lambt = tuple(lamb)\n",
    "        set_partitions.update({lambt:temp})\n",
    "\n",
    "    # Now associate possible labels to these images\n",
    "    list_pmaj_contributes = []\n",
    "    for image in list_functions:                                                        # For every image of a pmaj contribute...\n",
    "        partit_img = list(set(image))\n",
    "        contr_multep = {i:sum([1 for v in image if v == i]) for i in range(nn*kk)}      # Dictionary storing for every contribute in the image its multeplicity\n",
    "        partit_val = list(contr_multep.values())                                        # Define the list of these multeplicities\n",
    "        \n",
    "        read_order_incr = sorted(range(nn*kk), key=lambda x:-partit_val[x])             # The order in which we give read multeplicities\n",
    "        \n",
    "        partit_mult = tuple([v for v in sorted(partit_val,reverse=True) if v != 0])\n",
    "        for choice in set_partitions[partit_mult]:\n",
    "            max_interval = [i for i in range(len(partit_img)-1) if partit_img[i+1] - partit_img[i] == kk]         # Compute which contributes are exactly k distant\n",
    "            new_funct = {}\n",
    "            new_list = []\n",
    "            for i in range(len(choice)):\n",
    "                new_funct = new_funct | {val:read_order_incr[i] for val in choice[i]}\n",
    "            \n",
    "            check = [ max([v for v in range(1,nn+1) if new_funct[v] == partit_img[i+1]]) < min([v for v in range(1,nn+1) if new_funct[v] == partit_img[i]]) for i in max_interval ]\n",
    "            if sum(check) == 0:\n",
    "                new_list = [new_funct[j+1] for j in range(nn)]\n",
    "                list_pmaj_contributes = list_pmaj_contributes + [new_list]\n",
    "    return list_pmaj_contributes\n",
    "\n",
    "#\n",
    "### Define the pmaj_word from contribute\n",
    "def pmaj_word(nn, kk, contribute, runlist = True):\n",
    "    wpmaj = []\n",
    "    runs = [[0]]\n",
    "    bound = max(contribute)\n",
    "    for val in range(bound + kk):            # Iterate for every run\n",
    "        # Get the labels of this run\n",
    "        lab_run = sorted([ v+1 for v in range(nn) if val < contribute[v] + kk and contribute[v] <= val],reverse=True)\n",
    "        wpmaj = wpmaj + lab_run\n",
    "        runs = runs + [lab_run]\n",
    "    if runlist:\n",
    "        return [wpmaj, runs]\n",
    "    else:\n",
    "        return wpmaj\n",
    "\n",
    "#\n",
    "### Max possible dinv\n",
    "def maxdinv(nn, kk, contribute):\n",
    "    maxim = []\n",
    "\n",
    "    # Compute the pmaj word from the pmaj_contribute and order\n",
    "    wpmaj = pmaj_word(nn,kk,contribute,runlist=False)\n",
    "    spmaj = [wpmaj[i] for i in range(nn*kk) if wpmaj[i] not in wpmaj[:i]]\n",
    "\n",
    "    return [kk*(spmaj.index(i)) for i in range(1,nn+1)]\n",
    "\n",
    "#\n",
    "### Define the list of values for beta for a given pmaj_word\n",
    "def beta(nn, kk, contribute):\n",
    "    betas_list = []\n",
    "\n",
    "    # Compute the pmaj word from the pmaj_contribute\n",
    "    [wpmaj, runs] = pmaj_word(nn,kk,contribute)\n",
    "\n",
    "    for ind in range(1,nn+1):        # For every label find beta(label)\n",
    "        h = min([hh for hh in range(len(runs)) if ind in runs[hh]])         # Find run in which ind appears first time\n",
    "        beta_ind = sum([len(runs[j]) for j in range(h)]) + len([v for v in runs[h] if ind < v])\n",
    "        betas_list = betas_list + [beta_ind]\n",
    "\n",
    "    return betas_list\n",
    "\n",
    "#\n",
    "### Define the list of values for alpha for a given pmaj_word\n",
    "def alpha(nn, kk, contribute):\n",
    "    alphas_list = []\n",
    "\n",
    "    # Compute the pmaj word from the pmaj_contribute\n",
    "    [wpmaj, runs] = pmaj_word(nn,kk,contribute)\n",
    "\n",
    "    for ind in range(1,nn+1):        # For every label find beta(label)\n",
    "        h = min([hh for hh in range(len(runs)) if ind in runs[hh]])         # Find run in which ind appears first time\n",
    "        alpha_ind = sum([len(runs[j]) for j in range(h-1)]) + len([v for v in runs[h-1] if ind < v])\n",
    "        alphas_list = alphas_list + [alpha_ind]\n",
    "\n",
    "    return alphas_list\n",
    "\n",
    "#\n",
    "### Define the list of values for u_m for a given pmaj_word\n",
    "def u_m(nn, kk, contribute):\n",
    "    u_list = []\n",
    "\n",
    "    # Compute the pmaj word from the pmaj_contribute\n",
    "    [wpmaj, runs] = pmaj_word(nn,kk,contribute)\n",
    "\n",
    "    for ind in range(1,nn+1):        # For every label find beta(label)\n",
    "        h = min([hh for hh in range(len(runs)) if ind in runs[hh]])         # Find run in which ind appears first time\n",
    "        u_ind = len([v for v in runs[h-1] if v <= ind]) + len([v for v in runs[h] if ind < v])\n",
    "        u_list = u_list + [u_ind]\n",
    "\n",
    "    return u_list\n",
    "\n",
    "#\n",
    "### Contributes of maj\n",
    "def word_maj(nn,kk,word):\n",
    "    if kk == 0:\n",
    "        return {i:0 for i in range(1,nn+1)}\n",
    "    contributes = {}\n",
    "    ascends = [word[i] <= word[i+1] for i in range(nn*kk - 1)] + [False]\n",
    "    \n",
    "    for i in range(1,nn+1):\n",
    "        contr_i = sum(ascends[0:word.index(i)])\n",
    "        contributes = contributes | {i:contr_i}\n",
    "    return contributes"
   ]
  },
  {
   "cell_type": "markdown",
   "id": "3a8b90cc",
   "metadata": {},
   "source": [
    "Now we can compute the factorization of the polynomial"
   ]
  },
  {
   "cell_type": "code",
   "execution_count": 9,
   "id": "a4fde008",
   "metadata": {
    "vscode": {
     "languageId": "sage"
    }
   },
   "outputs": [
    {
     "name": "stdout",
     "output_type": "stream",
     "text": [
      "Polynomial obtained through the factorization: q^12 + q^11*t + q^10*t^2 + q^9*t^3 + q^8*t^4 + q^7*t^5 + q^6*t^6 + q^5*t^7 + q^4*t^8 + q^3*t^9 + q^2*t^10 + q*t^11 + t^12 + 3*q^11 + 4*q^10*t + 4*q^9*t^2 + 4*q^8*t^3 + 4*q^7*t^4 + 4*q^6*t^5 + 4*q^5*t^6 + 4*q^4*t^7 + 4*q^3*t^8 + 4*q^2*t^9 + 4*q*t^10 + 3*t^11 + 5*q^10 + 9*q^9*t + 10*q^8*t^2 + 10*q^7*t^3 + 10*q^6*t^4 + 10*q^5*t^5 + 10*q^4*t^6 + 10*q^3*t^7 + 10*q^2*t^8 + 9*q*t^9 + 5*t^10 + 6*q^9 + 14*q^8*t + 18*q^7*t^2 + 19*q^6*t^3 + 19*q^5*t^4 + 19*q^4*t^5 + 19*q^3*t^6 + 18*q^2*t^7 + 14*q*t^8 + 6*t^9 + 5*q^8 + 16*q^7*t + 25*q^6*t^2 + 28*q^5*t^3 + 29*q^4*t^4 + 28*q^3*t^5 + 25*q^2*t^6 + 16*q*t^7 + 5*t^8 + 3*q^7 + 14*q^6*t + 25*q^5*t^2 + 30*q^4*t^3 + 30*q^3*t^4 + 25*q^2*t^5 + 14*q*t^6 + 3*t^7 + q^6 + 9*q^5*t + 17*q^4*t^2 + 20*q^3*t^3 + 17*q^2*t^4 + 9*q*t^5 + t^6 + 4*q^4*t + 7*q^3*t^2 + 7*q^2*t^3 + 4*q*t^4 + q^3*t + q^2*t^2 + q*t^3\n",
      "Polynomial obtained through the Hall product:  q^12 + q^11*t + q^10*t^2 + q^9*t^3 + q^8*t^4 + q^7*t^5 + q^6*t^6 + q^5*t^7 + q^4*t^8 + q^3*t^9 + q^2*t^10 + q*t^11 + t^12 + 3*q^11 + 4*q^10*t + 4*q^9*t^2 + 4*q^8*t^3 + 4*q^7*t^4 + 4*q^6*t^5 + 4*q^5*t^6 + 4*q^4*t^7 + 4*q^3*t^8 + 4*q^2*t^9 + 4*q*t^10 + 3*t^11 + 5*q^10 + 9*q^9*t + 10*q^8*t^2 + 10*q^7*t^3 + 10*q^6*t^4 + 10*q^5*t^5 + 10*q^4*t^6 + 10*q^3*t^7 + 10*q^2*t^8 + 9*q*t^9 + 5*t^10 + 6*q^9 + 14*q^8*t + 18*q^7*t^2 + 19*q^6*t^3 + 19*q^5*t^4 + 19*q^4*t^5 + 19*q^3*t^6 + 18*q^2*t^7 + 14*q*t^8 + 6*t^9 + 5*q^8 + 16*q^7*t + 25*q^6*t^2 + 28*q^5*t^3 + 29*q^4*t^4 + 28*q^3*t^5 + 25*q^2*t^6 + 16*q*t^7 + 5*t^8 + 3*q^7 + 14*q^6*t + 25*q^5*t^2 + 30*q^4*t^3 + 30*q^3*t^4 + 25*q^2*t^5 + 14*q*t^6 + 3*t^7 + q^6 + 9*q^5*t + 17*q^4*t^2 + 20*q^3*t^3 + 17*q^2*t^4 + 9*q*t^5 + t^6 + 4*q^4*t + 7*q^3*t^2 + 7*q^2*t^3 + 4*q*t^4 + q^3*t + q^2*t^2 + q*t^3\n"
     ]
    }
   ],
   "source": [
    "from sage.combinat.q_analogues import q_int\n",
    "\n",
    "### Let us compute the polynomial\n",
    "\n",
    "poly_fact = 0*q*t\n",
    "\n",
    "for contribute in gen_pmaj_contributes(nn,kk):\n",
    "    # Compute the wpmaj and the corresponding q_exp\n",
    "    [wpmaj,runs]= pmaj_word(nn,kk,contribute)\n",
    "    q_exp = sum(word_maj(nn,kk,wpmaj).values())\n",
    "\n",
    "    # Compute the t_analogue\n",
    "    t_analogue = 1\n",
    "    maxim = maxdinv(nn,kk,contribute)\n",
    "    betas = beta(nn,kk,contribute)\n",
    "    alphas = alpha(nn,kk,contribute)\n",
    "    u_ms = [betas[i] - alphas[i] for i in range(nn)]\n",
    "    for lab in range(1,nn+1):\n",
    "        t_factor = 0*t\n",
    "        for jj in range(alphas[lab-1],betas[lab-1]):\n",
    "            t_factor = t_factor + t ** (maxim[lab-1] - jj)\n",
    "        t_analogue = t_analogue * t_factor\n",
    "    \n",
    "    # Sum new contribute\n",
    "    poly_fact += (q ** q_exp) * t_analogue \n",
    "\n",
    "print(\"Polynomial obtained through the factorization: {}\".format(poly_fact))\n",
    "print(\"Polynomial obtained through the Hall product:  {}\".format(poly_Hall))\n"
   ]
  },
  {
   "cell_type": "code",
   "execution_count": null,
   "id": "17c321eb",
   "metadata": {
    "vscode": {
     "languageId": "sage"
    }
   },
   "outputs": [],
   "source": []
  },
  {
   "cell_type": "code",
   "execution_count": null,
   "id": "a03d1db5",
   "metadata": {
    "vscode": {
     "languageId": "sage"
    }
   },
   "outputs": [],
   "source": []
  },
  {
   "cell_type": "code",
   "execution_count": null,
   "id": "9b124a2d",
   "metadata": {
    "vscode": {
     "languageId": "sage"
    }
   },
   "outputs": [],
   "source": []
  },
  {
   "cell_type": "code",
   "execution_count": null,
   "id": "643e6285",
   "metadata": {
    "vscode": {
     "languageId": "sage"
    }
   },
   "outputs": [],
   "source": []
  }
 ],
 "metadata": {
  "kernelspec": {
   "display_name": "SageMath 10.4.beta7",
   "language": "sage",
   "name": "sagemath-dev"
  },
  "language_info": {
   "codemirror_mode": {
    "name": "ipython",
    "version": 3
   },
   "file_extension": ".py",
   "mimetype": "text/x-python",
   "name": "python",
   "nbconvert_exporter": "python",
   "pygments_lexer": "ipython3",
   "version": "3.12.3"
  }
 },
 "nbformat": 4,
 "nbformat_minor": 5
}
